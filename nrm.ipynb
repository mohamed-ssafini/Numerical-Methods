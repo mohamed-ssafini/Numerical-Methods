{
  "nbformat": 4,
  "nbformat_minor": 0,
  "metadata": {
    "colab": {
      "name": "nrm.ipynb",
      "provenance": [],
      "collapsed_sections": [],
      "toc_visible": true,
      "include_colab_link": true
    },
    "kernelspec": {
      "name": "python3",
      "display_name": "Python 3"
    }
  },
  "cells": [
    {
      "cell_type": "markdown",
      "metadata": {
        "id": "view-in-github",
        "colab_type": "text"
      },
      "source": [
        "<a href=\"https://colab.research.google.com/github/mohamedssafini/Numerical-Methods/blob/master/nrm.ipynb\" target=\"_parent\"><img src=\"https://colab.research.google.com/assets/colab-badge.svg\" alt=\"Open In Colab\"/></a>"
      ]
    },
    {
      "cell_type": "code",
      "metadata": {
        "id": "rhpPCp1Wfzpj",
        "colab_type": "code",
        "outputId": "2814d530-6317-47f5-917f-dc47f708f0c0",
        "colab": {
          "base_uri": "https://localhost:8080/",
          "height": 51
        }
      },
      "source": [
        "x = 0\n",
        "for iteration in range(1,101):\n",
        "    xnew = x - (2*x**2 - 5*x + 3)/(4*x - 5) # the Newton-Raphson's formula\n",
        "    if abs(xnew - x) < 0.000001:\n",
        "        break\n",
        "    x = xnew\n",
        "print('The root : %0.5f' % xnew)\n",
        "print('The number of iterations : %d' % iteration)\n",
        "                                  \n"
      ],
      "execution_count": 0,
      "outputs": [
        {
          "output_type": "stream",
          "text": [
            "The root : 1.00000\n",
            "The number of iterations : 7\n"
          ],
          "name": "stdout"
        }
      ]
    },
    {
      "cell_type": "code",
      "metadata": {
        "id": "6B3UGz24gp-m",
        "colab_type": "code",
        "outputId": "a4d4a5bc-f587-49c7-e2c3-75587616a83f",
        "colab": {
          "base_uri": "https://localhost:8080/",
          "height": 170
        }
      },
      "source": [
        "x = 0\n",
        "for iteration in range(1,101):\n",
        "    xnew = x - (2*x**2 - 5*x + 3)/(4*x - 5) # the Newton-Raphson's formula\n",
        "    print(x, xnew, iteration, abs(xnew - x))\n",
        "    if abs(xnew - x) < 0.000001:\n",
        "        break\n",
        "    x = xnew\n",
        "print('The root : %0.5f' % xnew)\n",
        "print('The number of iterations : %d' % iteration)"
      ],
      "execution_count": 0,
      "outputs": [
        {
          "output_type": "stream",
          "text": [
            "0 0.6 1 0.6\n",
            "0.6 0.8769230769230768 2 0.2769230769230768\n",
            "0.8769230769230768 0.9796986518636004 3 0.10277557494052358\n",
            "0.9796986518636004 0.9992376199027553 4 0.01953896803915489\n",
            "0.9992376199027553 0.9999988410873017 5 0.0007612211845464678\n",
            "0.9999988410873017 0.9999999999973136 6 1.1589100118447604e-06\n",
            "0.9999999999973136 0.9999999999999999 7 2.6862956303830288e-12\n",
            "The root : 1.00000\n",
            "The number of iterations : 7\n"
          ],
          "name": "stdout"
        }
      ]
    },
    {
      "cell_type": "code",
      "metadata": {
        "id": "8SBWJH9Xq7n2",
        "colab_type": "code",
        "colab": {
          "base_uri": "https://localhost:8080/",
          "height": 153
        },
        "outputId": "548fad1a-bd3b-4806-a697-8dbd0b371941"
      },
      "source": [
        "x = 2\n",
        "for iteration in range(1,101):\n",
        "    xnew = x - (2*x**2 - 5*x + 3)/(4*x - 5) # the Newton-Raphson's formula\n",
        "    print(x, xnew, iteration, abs(xnew - x))\n",
        "    if abs(xnew - x) < 0.000001:\n",
        "        break\n",
        "    x = xnew\n",
        "print('The root : %0.5f' % xnew)\n",
        "print('The number of iterations : %d' % iteration)"
      ],
      "execution_count": 1,
      "outputs": [
        {
          "output_type": "stream",
          "text": [
            "2 1.6666666666666667 1 0.33333333333333326\n",
            "1.6666666666666667 1.5333333333333334 2 0.1333333333333333\n",
            "1.5333333333333334 1.5019607843137255 3 0.031372549019607954\n",
            "1.5019607843137255 1.5000076295109483 4 0.001953154802777135\n",
            "1.5000076295109483 1.5000000001164153 5 7.629394533026357e-06\n",
            "1.5000000001164153 1.5 6 1.1641532182693481e-10\n",
            "The root : 1.50000\n",
            "The number of iterations : 6\n"
          ],
          "name": "stdout"
        }
      ]
    },
    {
      "cell_type": "code",
      "metadata": {
        "id": "EA-Z_ly6q71U",
        "colab_type": "code",
        "colab": {}
      },
      "source": [
        ""
      ],
      "execution_count": 0,
      "outputs": []
    }
  ]
}