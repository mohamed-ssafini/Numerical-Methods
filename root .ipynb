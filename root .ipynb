{
 "cells": [
  {
   "cell_type": "code",
   "execution_count": 1,
   "metadata": {},
   "outputs": [
    {
     "name": "stdout",
     "output_type": "stream",
     "text": [
      "The root : 1.00000\n",
      "The number of iterations : 50\n"
     ]
    }
   ],
   "source": [
    "x = 0\n",
    "for iteration in range(1,101):\n",
    "    xnew = (2*x**2 + 3)/5\n",
    "    if abs(xnew - x) < 0.000001:\n",
    "        break\n",
    "    x = xnew\n",
    "print('The root : %0.5f' % xnew)\n",
    "print('The number of iterations : %d' % iteration)\n",
    "                                  "
   ]
  },
  {
   "cell_type": "code",
   "execution_count": null,
   "metadata": {},
   "outputs": [],
   "source": []
  }
 ],
 "metadata": {
  "kernelspec": {
   "display_name": "Python 3",
   "language": "python",
   "name": "python3"
  },
  "language_info": {
   "codemirror_mode": {
    "name": "ipython",
    "version": 3
   },
   "file_extension": ".py",
   "mimetype": "text/x-python",
   "name": "python",
   "nbconvert_exporter": "python",
   "pygments_lexer": "ipython3",
   "version": "3.7.3"
  }
 },
 "nbformat": 4,
 "nbformat_minor": 4
}
